{
 "cells": [
  {
   "cell_type": "code",
   "execution_count": 1,
   "metadata": {},
   "outputs": [],
   "source": [
    "import numpy as np\n",
    "import math\n",
    "import os.path\n",
    "import csv\n",
    "import glob\n",
    "import tensorflow as tf\n",
    "import h5py as h5py\n",
    "from keras.preprocessing import image\n",
    "from keras.applications.inception_v3 import InceptionV3, preprocess_input\n",
    "from keras.models import Model, load_model"
   ]
  },
  {
   "cell_type": "code",
   "execution_count": 2,
   "metadata": {},
   "outputs": [],
   "source": [
    "import imageio\n",
    "import matplotlib.pyplot as plt\n",
    "from mlxtend.image import extract_face_landmarks"
   ]
  },
  {
   "cell_type": "code",
   "execution_count": 25,
   "metadata": {},
   "outputs": [],
   "source": [
    "def eye_aspect_ratio(eye,show=True):\n",
    "    A = distance.euclidean(eye[1],eye[5])\n",
    "    B = distance.euclidean(eye[2], eye[4])\n",
    "    C = distance.euclidean(eye[0], eye[3])\n",
    "    ear = (A+B)/(2.0 * C)\n",
    "    if show == True :\n",
    "        print(\"EAR :\",ear)\n",
    "    return ear # WE GOT THE EAR VALUE NOW\n",
    "\n",
    "def mouth_aspect_ratio(mouth,show=True):\n",
    "    A = distance.euclidean(mouth[14], mouth[18])\n",
    "    C = distance.euclidean(mouth[12], mouth[16])\n",
    "    if show == True:\n",
    "        print(\"mar :\",(A/C))\n",
    "    return A/C  #// we got mar value now\n",
    "\n",
    "def mouth_over_eye(eye,show=True):\n",
    "    ear = eye_aspect_ratio(eye,False)\n",
    "    mar = mouth_aspect_ratio(eye,False)\n",
    "    mouth_eye = mar/ear\n",
    "    if show == True:\n",
    "        print(\"mouth_eye :\",mouth_eye)\n",
    "    return mouth_eye\n",
    "\n",
    "def circularity(eye): # PUC \n",
    "    # puc = (4 pi area)/(perimeter sq)\n",
    "    \n",
    "    A = distance.euclidean(eye[1], eye[4])\n",
    "    radius  = A/2.0\n",
    "    Area = math.pi * (radius ** 2)\n",
    "    p = 0 # perimeter\n",
    "    p += distance.euclidean(eye[0], eye[1])\n",
    "    p += distance.euclidean(eye[1], eye[2])\n",
    "    p += distance.euclidean(eye[2], eye[3])\n",
    "    p += distance.euclidean(eye[3], eye[4])\n",
    "    p += distance.euclidean(eye[4], eye[5])\n",
    "    p += distance.euclidean(eye[5], eye[0])\n",
    "    puc = (4 * math.pi * Area) /(p**2)\n",
    "    print(\"puc :\",puc)\n",
    "    \n",
    "    return (puc)\n",
    "\n"
   ]
  },
  {
   "cell_type": "code",
   "execution_count": 4,
   "metadata": {},
   "outputs": [],
   "source": [
    "def getFrame(sec):\n",
    "    start = 180000 # the 3 minute mark\n",
    "    vidcap.set(cv2.CAP_PROP_POS_MSEC, start + sec*1000) # gets one frame ,frame at  3 minte mark+ sec\n",
    "    hasFrames,image = vidcap.read()\n",
    "    print(\"got a frame at\",start + sec*1000,\"sec mark , status :\",hasFrames)\n",
    "    return hasFrames, image"
   ]
  },
  {
   "cell_type": "code",
   "execution_count": 14,
   "metadata": {
    "scrolled": true
   },
   "outputs": [
    {
     "name": "stdout",
     "output_type": "stream",
     "text": [
      "file path : /home/v/Desktop/Drowsiness detection/Fold5_part2/60/10.mov\n",
      "file_loaded\n",
      "helo world\n",
      "count : 1\n",
      "helo world\n",
      "count : 2\n",
      "helo world\n",
      "count : 3\n",
      "helo world\n",
      "count : 4\n",
      "helo world\n",
      "count : 5\n",
      "helo world\n",
      "count : 6\n",
      "helo world\n",
      "count : 7\n",
      "helo world\n",
      "count : 8\n",
      "helo world\n",
      "count : 9\n",
      "helo world\n",
      "count : 10\n"
     ]
    }
   ],
   "source": [
    "from scipy.spatial import distance\n",
    "import cv2\n",
    "data=[]\n",
    "labels = []\n",
    "face_landmarks=[]\n",
    "for j in [60]:\n",
    "    for i in [10]:\n",
    "        loc='/home/v/Desktop/Drowsiness detection/Fold5_part2'+ '/'+ str(j) +'/' + str(i) + '.mov'\n",
    "        print(\"file path :\",loc)\n",
    "        vidcap = cv2.VideoCapture(loc)\n",
    "        print(\"file_loaded\")\n",
    "        sec = 0\n",
    "        frameRate = 1\n",
    "        success,image = getFrame(sec)\n",
    "        count = 0\n",
    "#         print(\"got a frame at\",sec,\"sec mark , status :\",success)\n",
    "        \n",
    "        while success and count < 10 :#240\n",
    "            print(\"helo world\")\n",
    "            landmarks = extract_face_landmarks(image)\n",
    "            face_landmarks.append(landmarks)\n",
    "            try :\n",
    "                if sum(sum(landmarks)) != 0 and type(sum(sum(landmarks))) != type(None) :\n",
    "                    count += 1\n",
    "                    data.append(landmarks)\n",
    "                    sec = sec + frameRate\n",
    "                    sec = round(sec,2)\n",
    "                    success,image = getFrame(sec)\n",
    "#                     print(\"got a frame at\",sec,\"sec mark , status :\",success)\n",
    "                    print(\"count :\",count)\n",
    "                else :\n",
    "                    sec = sec + frameRate\n",
    "                    sec = round(sec,2)\n",
    "                    success, image = getFrame(sec)\n",
    "                    print(\"not detected\")\n",
    "            except :\n",
    "                print(\"failed in getting a land mark\")\n",
    "                print(\"type\",type(sum(sum(landmarks))))\n",
    "                print(\"sum\",sum(sum(landmarks)))\n",
    "                sec = sec + frameRate\n",
    "                sec = round(sec,2)\n",
    "                count +=1\n",
    "                print(\"sec :\",sec,\"count:\",count)\n",
    "                "
   ]
  },
  {
   "cell_type": "code",
   "execution_count": 15,
   "metadata": {},
   "outputs": [],
   "source": [
    "import numpy as np\n",
    "data = np.array(data)\n",
    "labels = np.array(labels)"
   ]
  },
  {
   "cell_type": "code",
   "execution_count": 30,
   "metadata": {},
   "outputs": [
    {
     "ename": "IndexError",
     "evalue": "index 1 is out of bounds for axis 0 with size 0",
     "output_type": "error",
     "traceback": [
      "\u001b[0;31m---------------------------------------------------------------------------\u001b[0m",
      "\u001b[0;31mIndexError\u001b[0m                                Traceback (most recent call last)",
      "\u001b[0;32m<ipython-input-30-8cb444ae8adf>\u001b[0m in \u001b[0;36m<module>\u001b[0;34m\u001b[0m\n\u001b[1;32m      2\u001b[0m \u001b[0;32mfor\u001b[0m \u001b[0md\u001b[0m \u001b[0;32min\u001b[0m \u001b[0mdata\u001b[0m\u001b[0;34m:\u001b[0m\u001b[0;34m\u001b[0m\u001b[0;34m\u001b[0m\u001b[0m\n\u001b[1;32m      3\u001b[0m   \u001b[0meye\u001b[0m \u001b[0;34m=\u001b[0m \u001b[0md\u001b[0m\u001b[0;34m[\u001b[0m\u001b[0;36m36\u001b[0m\u001b[0;34m:\u001b[0m\u001b[0;36m68\u001b[0m\u001b[0;34m]\u001b[0m\u001b[0;34m\u001b[0m\u001b[0;34m\u001b[0m\u001b[0m\n\u001b[0;32m----> 4\u001b[0;31m   \u001b[0mear\u001b[0m \u001b[0;34m=\u001b[0m \u001b[0meye_aspect_ratio\u001b[0m\u001b[0;34m(\u001b[0m\u001b[0meye\u001b[0m\u001b[0;34m)\u001b[0m\u001b[0;34m\u001b[0m\u001b[0;34m\u001b[0m\u001b[0m\n\u001b[0m\u001b[1;32m      5\u001b[0m   \u001b[0mmar\u001b[0m \u001b[0;34m=\u001b[0m \u001b[0mmouth_aspect_ratio\u001b[0m\u001b[0;34m(\u001b[0m\u001b[0meye\u001b[0m\u001b[0;34m)\u001b[0m\u001b[0;34m\u001b[0m\u001b[0;34m\u001b[0m\u001b[0m\n\u001b[1;32m      6\u001b[0m   \u001b[0mcir\u001b[0m \u001b[0;34m=\u001b[0m \u001b[0mcircularity\u001b[0m\u001b[0;34m(\u001b[0m\u001b[0meye\u001b[0m\u001b[0;34m)\u001b[0m\u001b[0;34m\u001b[0m\u001b[0;34m\u001b[0m\u001b[0m\n",
      "\u001b[0;32m<ipython-input-25-bcfe48ff6bb8>\u001b[0m in \u001b[0;36meye_aspect_ratio\u001b[0;34m(eye, show)\u001b[0m\n\u001b[1;32m      1\u001b[0m \u001b[0;32mdef\u001b[0m \u001b[0meye_aspect_ratio\u001b[0m\u001b[0;34m(\u001b[0m\u001b[0meye\u001b[0m\u001b[0;34m,\u001b[0m\u001b[0mshow\u001b[0m\u001b[0;34m=\u001b[0m\u001b[0;32mTrue\u001b[0m\u001b[0;34m)\u001b[0m\u001b[0;34m:\u001b[0m\u001b[0;34m\u001b[0m\u001b[0;34m\u001b[0m\u001b[0m\n\u001b[0;32m----> 2\u001b[0;31m     \u001b[0mA\u001b[0m \u001b[0;34m=\u001b[0m \u001b[0mdistance\u001b[0m\u001b[0;34m.\u001b[0m\u001b[0meuclidean\u001b[0m\u001b[0;34m(\u001b[0m\u001b[0meye\u001b[0m\u001b[0;34m[\u001b[0m\u001b[0;36m1\u001b[0m\u001b[0;34m]\u001b[0m\u001b[0;34m,\u001b[0m\u001b[0meye\u001b[0m\u001b[0;34m[\u001b[0m\u001b[0;36m5\u001b[0m\u001b[0;34m]\u001b[0m\u001b[0;34m)\u001b[0m\u001b[0;34m\u001b[0m\u001b[0;34m\u001b[0m\u001b[0m\n\u001b[0m\u001b[1;32m      3\u001b[0m     \u001b[0mB\u001b[0m \u001b[0;34m=\u001b[0m \u001b[0mdistance\u001b[0m\u001b[0;34m.\u001b[0m\u001b[0meuclidean\u001b[0m\u001b[0;34m(\u001b[0m\u001b[0meye\u001b[0m\u001b[0;34m[\u001b[0m\u001b[0;36m2\u001b[0m\u001b[0;34m]\u001b[0m\u001b[0;34m,\u001b[0m \u001b[0meye\u001b[0m\u001b[0;34m[\u001b[0m\u001b[0;36m4\u001b[0m\u001b[0;34m]\u001b[0m\u001b[0;34m)\u001b[0m\u001b[0;34m\u001b[0m\u001b[0;34m\u001b[0m\u001b[0m\n\u001b[1;32m      4\u001b[0m     \u001b[0mC\u001b[0m \u001b[0;34m=\u001b[0m \u001b[0mdistance\u001b[0m\u001b[0;34m.\u001b[0m\u001b[0meuclidean\u001b[0m\u001b[0;34m(\u001b[0m\u001b[0meye\u001b[0m\u001b[0;34m[\u001b[0m\u001b[0;36m0\u001b[0m\u001b[0;34m]\u001b[0m\u001b[0;34m,\u001b[0m \u001b[0meye\u001b[0m\u001b[0;34m[\u001b[0m\u001b[0;36m3\u001b[0m\u001b[0;34m]\u001b[0m\u001b[0;34m)\u001b[0m\u001b[0;34m\u001b[0m\u001b[0;34m\u001b[0m\u001b[0m\n\u001b[1;32m      5\u001b[0m     \u001b[0mear\u001b[0m \u001b[0;34m=\u001b[0m \u001b[0;34m(\u001b[0m\u001b[0mA\u001b[0m\u001b[0;34m+\u001b[0m\u001b[0mB\u001b[0m\u001b[0;34m)\u001b[0m\u001b[0;34m/\u001b[0m\u001b[0;34m(\u001b[0m\u001b[0;36m2.0\u001b[0m \u001b[0;34m*\u001b[0m \u001b[0mC\u001b[0m\u001b[0;34m)\u001b[0m\u001b[0;34m\u001b[0m\u001b[0;34m\u001b[0m\u001b[0m\n",
      "\u001b[0;31mIndexError\u001b[0m: index 1 is out of bounds for axis 0 with size 0"
     ]
    }
   ],
   "source": [
    "features = []\n",
    "for d in data:\n",
    "  eye = d[36:68]\n",
    "  ear = eye_aspect_ratio(eye)\n",
    "  mar = mouth_aspect_ratio(eye)\n",
    "  cir = circularity(eye)\n",
    "  mouth_eye = mouth_over_eye(eye)\n",
    "  features.append([ear, mar, cir, mouth_eye])\n",
    "    "
   ]
  },
  {
   "cell_type": "code",
   "execution_count": 29,
   "metadata": {},
   "outputs": [
    {
     "data": {
      "text/plain": [
       "(10, 1, 68, 2)"
      ]
     },
     "execution_count": 29,
     "metadata": {},
     "output_type": "execute_result"
    }
   ],
   "source": [
    "features\n",
    "features = np.array(features)\n",
    "features.shape\n",
    "data.shape"
   ]
  }
 ],
 "metadata": {
  "kernelspec": {
   "display_name": "Python 3",
   "language": "python",
   "name": "python3"
  },
  "language_info": {
   "codemirror_mode": {
    "name": "ipython",
    "version": 3
   },
   "file_extension": ".py",
   "mimetype": "text/x-python",
   "name": "python",
   "nbconvert_exporter": "python",
   "pygments_lexer": "ipython3",
   "version": "3.8.5"
  }
 },
 "nbformat": 4,
 "nbformat_minor": 4
}
